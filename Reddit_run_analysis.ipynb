{
  "nbformat": 4,
  "nbformat_minor": 0,
  "metadata": {
    "colab": {
      "name": "Reddit_run analysis.ipynb",
      "provenance": [],
      "authorship_tag": "ABX9TyOYWtd8z9DMv4xzqdX20N0h",
      "include_colab_link": true
    },
    "kernelspec": {
      "display_name": "Python 3",
      "name": "python3"
    },
    "language_info": {
      "name": "python"
    }
  },
  "cells": [
    {
      "cell_type": "markdown",
      "metadata": {
        "id": "view-in-github",
        "colab_type": "text"
      },
      "source": [
        "<a href=\"https://colab.research.google.com/github/Strata-Tech/Reddit_market_analysis/blob/main/Reddit_run_analysis.ipynb\" target=\"_parent\"><img src=\"https://colab.research.google.com/assets/colab-badge.svg\" alt=\"Open In Colab\"/></a>"
      ]
    },
    {
      "cell_type": "code",
      "metadata": {
        "id": "leTruTCTCTZI"
      },
      "source": [
        "import praw\n",
        "import nltk\n",
        "import time\n",
        "import pandas as pd\n",
        "import matplotlib.pyplot as plt\n",
        "import squarify\n",
        "from nltk.sentiment.vader import SentimentIntensityAnalyzer"
      ],
      "execution_count": null,
      "outputs": []
    },
    {
      "cell_type": "code",
      "metadata": {
        "id": "nnMDlDwwCTcM"
      },
      "source": [
        "client_id='SlBvI4ADPthsFg'\n",
        "client_secret='5qTGPeg0UicPeoT3vOrPRXiSj2FUxQ'\n",
        "user_agent='sentiment_analysis'\n",
        "username='Nakamoto25'\n",
        "password='Programmer123'\n",
        "\n",
        "start_time = time.time()\n",
        "\n",
        "reddit=praw.Reddit(client_id=client_id,client_secret=client_secret,user_agent=user_agent,username=username,password=password)\n",
        "us={'TSLA','PLTR','SPCE','BABA','APPL','AMC','GME'}\n",
        "blacklist={'I', 'ELON', 'WSB', 'THE', 'A', 'ROPE', 'YOLO', 'TOS', 'CEO', 'DD'}"
      ],
      "execution_count": null,
      "outputs": []
    },
    {
      "cell_type": "code",
      "metadata": {
        "id": "HgilqEhUCTe0"
      },
      "source": [
        "# set the program parameters\n",
        "subs = ['wallstreetbets','stonks','stocks','investing']     # sub-reddit to search\n",
        "post_flairs = {'Daily Discussion', 'Weekend Discussion'}  # posts flairs to search or None flair is automatically considered\n",
        "goodAuth = {'AutoModerator'}   # authors whom comments are allowed more than once\n",
        "uniqueCmt = True                # allow one comment per author per symbol\n",
        "ignoreAuthP = {'example'}       # authors to ignore for posts\n",
        "ignoreAuthC = {'example'}       # authors to ignore for comment\n",
        "upvoteRatio = 0.70         # upvote ratio for post to be considered, 0.70 = 70%\n",
        "ups = 20       # define # of upvotes, post is considered if upvotes exceed this #\n",
        "limit = 10      # define the limit, comments 'replace more' limit\n",
        "upvotes = 2     # define # of upvotes, comment is considered if upvotes exceed this #\n",
        "picks = 10    # define # of picks here, prints as \"Top ## picks are:\"\n",
        "picks_ayz = 5   # define # of picks for sentiment analysis"
      ],
      "execution_count": null,
      "outputs": []
    },
    {
      "cell_type": "code",
      "metadata": {
        "id": "INGrxp1TCTht"
      },
      "source": [
        "posts=0\n",
        "count=0 #counting tickers\n",
        "c_analyzed=0 #comments\n",
        "tickers={}\n",
        "titles=[]\n",
        "a_comments={} #dictionary of word/ticker to comments\n",
        "cmt_auth={} #dictionary of word/ticker to author"
      ],
      "execution_count": null,
      "outputs": []
    },
    {
      "cell_type": "code",
      "metadata": {
        "colab": {
          "base_uri": "https://localhost:8080/"
        },
        "id": "G2e69ynHCTkq",
        "outputId": "6f5334bb-d003-4ba5-d769-8e15eb616a4f"
      },
      "source": [
        "for sub in subs:\n",
        "\n",
        "  subreddit=reddit.subreddit(sub)\n",
        "  hot_python=subreddit.hot()   #for hot topics\n",
        "\n",
        "  for submission in hot_python:\n",
        "\n",
        "    flair=submission.link_flair_text\n",
        "    author=submission.author.name\n",
        "\n",
        "\n",
        "    \n",
        "    if submission.upvote_ratio >= upvoteRatio and submission.ups > ups and (flair in post_flairs or flair is None) and author not in ignoreAuthP:\n",
        "      submission.comment_sort='new'\n",
        "      comments= submission.comments\n",
        "      titles.append(submission.title)\n",
        "      posts+=1\n",
        "      submission.comments.replace_more(limit=limit)\n",
        "      for comment in comments:\n",
        "        #try except for deleted account\n",
        "        try:\n",
        "          auth=comment.author.name\n",
        "        except:\n",
        "          pass\n",
        "\n",
        "        c_analyzed+=1\n",
        "\n",
        "        #check for comment upvotes and author\n",
        "\n",
        "        if comment.score>upvotes and auth not in ignoreAuthC:\n",
        "          split=comment.body.split()\n",
        "          for word in split:\n",
        "            word=word.replace('$','')\n",
        "            #upper=ticker,length of ticker<=5,excluded words\n",
        "            if word.isupper() and len(word)<=5 and word not in blacklist and word in us:\n",
        "              #unique comments, try/except for key errors\n",
        "              if uniqueCmt and auth not in goodAuth:\n",
        "                try:\n",
        "                  if auth in cmt_auth[word]:\n",
        "                    break\n",
        "\n",
        "                except:\n",
        "                  pass\n",
        "              #counting tickers\n",
        "\n",
        "              if word in tickers:\n",
        "                tickers[word]+=1\n",
        "                a_comments[word].append(comment.body)\n",
        "                cmt_auth[word].append(auth)\n",
        "                count+=1\n",
        "\n",
        "              else:\n",
        "                tickers[word]=1\n",
        "                cmt_auth[word]=[auth]\n",
        "                a_comments[word]=[comment.body]\n",
        "                count+=1\n",
        "\n",
        "#sorts the dictionary by its values\n",
        "#https://www.tutorialspoint.com/how-to-sort-a-dictionary-in-python\n",
        "symbols=dict(sorted(tickers.items(),key=lambda item:item[1],reverse=True))\n",
        "top_picks=list(symbols.keys())[0:picks] #listing top 10 tickers\n",
        "time=(time.time()-start_time)\n",
        "\n",
        "\n",
        "#print top picks\n",
        "print(f\"It took {time:0.2f}seconds to analyze {c_analyzed} comments in  {posts} posts in {len(subs)} subreddits\")\n",
        "\n",
        "  \n",
        "  \n",
        "\n",
        "        "
      ],
      "execution_count": null,
      "outputs": [
        {
          "output_type": "stream",
          "text": [
            "It appears that you are using PRAW in an asynchronous environment.\n",
            "It is strongly recommended to use Async PRAW: https://asyncpraw.readthedocs.io.\n",
            "See https://praw.readthedocs.io/en/latest/getting_started/multiple_instances.html#discord-bots-and-asynchronous-environments for more info.\n",
            "\n",
            "It appears that you are using PRAW in an asynchronous environment.\n",
            "It is strongly recommended to use Async PRAW: https://asyncpraw.readthedocs.io.\n",
            "See https://praw.readthedocs.io/en/latest/getting_started/multiple_instances.html#discord-bots-and-asynchronous-environments for more info.\n",
            "\n",
            "It appears that you are using PRAW in an asynchronous environment.\n",
            "It is strongly recommended to use Async PRAW: https://asyncpraw.readthedocs.io.\n",
            "See https://praw.readthedocs.io/en/latest/getting_started/multiple_instances.html#discord-bots-and-asynchronous-environments for more info.\n",
            "\n",
            "It appears that you are using PRAW in an asynchronous environment.\n",
            "It is strongly recommended to use Async PRAW: https://asyncpraw.readthedocs.io.\n",
            "See https://praw.readthedocs.io/en/latest/getting_started/multiple_instances.html#discord-bots-and-asynchronous-environments for more info.\n",
            "\n",
            "It appears that you are using PRAW in an asynchronous environment.\n",
            "It is strongly recommended to use Async PRAW: https://asyncpraw.readthedocs.io.\n",
            "See https://praw.readthedocs.io/en/latest/getting_started/multiple_instances.html#discord-bots-and-asynchronous-environments for more info.\n",
            "\n",
            "It appears that you are using PRAW in an asynchronous environment.\n",
            "It is strongly recommended to use Async PRAW: https://asyncpraw.readthedocs.io.\n",
            "See https://praw.readthedocs.io/en/latest/getting_started/multiple_instances.html#discord-bots-and-asynchronous-environments for more info.\n",
            "\n",
            "It appears that you are using PRAW in an asynchronous environment.\n",
            "It is strongly recommended to use Async PRAW: https://asyncpraw.readthedocs.io.\n",
            "See https://praw.readthedocs.io/en/latest/getting_started/multiple_instances.html#discord-bots-and-asynchronous-environments for more info.\n",
            "\n",
            "It appears that you are using PRAW in an asynchronous environment.\n",
            "It is strongly recommended to use Async PRAW: https://asyncpraw.readthedocs.io.\n",
            "See https://praw.readthedocs.io/en/latest/getting_started/multiple_instances.html#discord-bots-and-asynchronous-environments for more info.\n",
            "\n",
            "It appears that you are using PRAW in an asynchronous environment.\n",
            "It is strongly recommended to use Async PRAW: https://asyncpraw.readthedocs.io.\n",
            "See https://praw.readthedocs.io/en/latest/getting_started/multiple_instances.html#discord-bots-and-asynchronous-environments for more info.\n",
            "\n",
            "It appears that you are using PRAW in an asynchronous environment.\n",
            "It is strongly recommended to use Async PRAW: https://asyncpraw.readthedocs.io.\n",
            "See https://praw.readthedocs.io/en/latest/getting_started/multiple_instances.html#discord-bots-and-asynchronous-environments for more info.\n",
            "\n",
            "It appears that you are using PRAW in an asynchronous environment.\n",
            "It is strongly recommended to use Async PRAW: https://asyncpraw.readthedocs.io.\n",
            "See https://praw.readthedocs.io/en/latest/getting_started/multiple_instances.html#discord-bots-and-asynchronous-environments for more info.\n",
            "\n",
            "It appears that you are using PRAW in an asynchronous environment.\n",
            "It is strongly recommended to use Async PRAW: https://asyncpraw.readthedocs.io.\n",
            "See https://praw.readthedocs.io/en/latest/getting_started/multiple_instances.html#discord-bots-and-asynchronous-environments for more info.\n",
            "\n",
            "It appears that you are using PRAW in an asynchronous environment.\n",
            "It is strongly recommended to use Async PRAW: https://asyncpraw.readthedocs.io.\n",
            "See https://praw.readthedocs.io/en/latest/getting_started/multiple_instances.html#discord-bots-and-asynchronous-environments for more info.\n",
            "\n",
            "It appears that you are using PRAW in an asynchronous environment.\n",
            "It is strongly recommended to use Async PRAW: https://asyncpraw.readthedocs.io.\n",
            "See https://praw.readthedocs.io/en/latest/getting_started/multiple_instances.html#discord-bots-and-asynchronous-environments for more info.\n",
            "\n",
            "It appears that you are using PRAW in an asynchronous environment.\n",
            "It is strongly recommended to use Async PRAW: https://asyncpraw.readthedocs.io.\n",
            "See https://praw.readthedocs.io/en/latest/getting_started/multiple_instances.html#discord-bots-and-asynchronous-environments for more info.\n",
            "\n",
            "It appears that you are using PRAW in an asynchronous environment.\n",
            "It is strongly recommended to use Async PRAW: https://asyncpraw.readthedocs.io.\n",
            "See https://praw.readthedocs.io/en/latest/getting_started/multiple_instances.html#discord-bots-and-asynchronous-environments for more info.\n",
            "\n",
            "It appears that you are using PRAW in an asynchronous environment.\n",
            "It is strongly recommended to use Async PRAW: https://asyncpraw.readthedocs.io.\n",
            "See https://praw.readthedocs.io/en/latest/getting_started/multiple_instances.html#discord-bots-and-asynchronous-environments for more info.\n",
            "\n",
            "It appears that you are using PRAW in an asynchronous environment.\n",
            "It is strongly recommended to use Async PRAW: https://asyncpraw.readthedocs.io.\n",
            "See https://praw.readthedocs.io/en/latest/getting_started/multiple_instances.html#discord-bots-and-asynchronous-environments for more info.\n",
            "\n",
            "It appears that you are using PRAW in an asynchronous environment.\n",
            "It is strongly recommended to use Async PRAW: https://asyncpraw.readthedocs.io.\n",
            "See https://praw.readthedocs.io/en/latest/getting_started/multiple_instances.html#discord-bots-and-asynchronous-environments for more info.\n",
            "\n",
            "It appears that you are using PRAW in an asynchronous environment.\n",
            "It is strongly recommended to use Async PRAW: https://asyncpraw.readthedocs.io.\n",
            "See https://praw.readthedocs.io/en/latest/getting_started/multiple_instances.html#discord-bots-and-asynchronous-environments for more info.\n",
            "\n",
            "It appears that you are using PRAW in an asynchronous environment.\n",
            "It is strongly recommended to use Async PRAW: https://asyncpraw.readthedocs.io.\n",
            "See https://praw.readthedocs.io/en/latest/getting_started/multiple_instances.html#discord-bots-and-asynchronous-environments for more info.\n",
            "\n",
            "It appears that you are using PRAW in an asynchronous environment.\n",
            "It is strongly recommended to use Async PRAW: https://asyncpraw.readthedocs.io.\n",
            "See https://praw.readthedocs.io/en/latest/getting_started/multiple_instances.html#discord-bots-and-asynchronous-environments for more info.\n",
            "\n",
            "It appears that you are using PRAW in an asynchronous environment.\n",
            "It is strongly recommended to use Async PRAW: https://asyncpraw.readthedocs.io.\n",
            "See https://praw.readthedocs.io/en/latest/getting_started/multiple_instances.html#discord-bots-and-asynchronous-environments for more info.\n",
            "\n",
            "It appears that you are using PRAW in an asynchronous environment.\n",
            "It is strongly recommended to use Async PRAW: https://asyncpraw.readthedocs.io.\n",
            "See https://praw.readthedocs.io/en/latest/getting_started/multiple_instances.html#discord-bots-and-asynchronous-environments for more info.\n",
            "\n",
            "It appears that you are using PRAW in an asynchronous environment.\n",
            "It is strongly recommended to use Async PRAW: https://asyncpraw.readthedocs.io.\n",
            "See https://praw.readthedocs.io/en/latest/getting_started/multiple_instances.html#discord-bots-and-asynchronous-environments for more info.\n",
            "\n",
            "It appears that you are using PRAW in an asynchronous environment.\n",
            "It is strongly recommended to use Async PRAW: https://asyncpraw.readthedocs.io.\n",
            "See https://praw.readthedocs.io/en/latest/getting_started/multiple_instances.html#discord-bots-and-asynchronous-environments for more info.\n",
            "\n",
            "It appears that you are using PRAW in an asynchronous environment.\n",
            "It is strongly recommended to use Async PRAW: https://asyncpraw.readthedocs.io.\n",
            "See https://praw.readthedocs.io/en/latest/getting_started/multiple_instances.html#discord-bots-and-asynchronous-environments for more info.\n",
            "\n",
            "It appears that you are using PRAW in an asynchronous environment.\n",
            "It is strongly recommended to use Async PRAW: https://asyncpraw.readthedocs.io.\n",
            "See https://praw.readthedocs.io/en/latest/getting_started/multiple_instances.html#discord-bots-and-asynchronous-environments for more info.\n",
            "\n",
            "It appears that you are using PRAW in an asynchronous environment.\n",
            "It is strongly recommended to use Async PRAW: https://asyncpraw.readthedocs.io.\n",
            "See https://praw.readthedocs.io/en/latest/getting_started/multiple_instances.html#discord-bots-and-asynchronous-environments for more info.\n",
            "\n",
            "It appears that you are using PRAW in an asynchronous environment.\n",
            "It is strongly recommended to use Async PRAW: https://asyncpraw.readthedocs.io.\n",
            "See https://praw.readthedocs.io/en/latest/getting_started/multiple_instances.html#discord-bots-and-asynchronous-environments for more info.\n",
            "\n",
            "It appears that you are using PRAW in an asynchronous environment.\n",
            "It is strongly recommended to use Async PRAW: https://asyncpraw.readthedocs.io.\n",
            "See https://praw.readthedocs.io/en/latest/getting_started/multiple_instances.html#discord-bots-and-asynchronous-environments for more info.\n",
            "\n",
            "It appears that you are using PRAW in an asynchronous environment.\n",
            "It is strongly recommended to use Async PRAW: https://asyncpraw.readthedocs.io.\n",
            "See https://praw.readthedocs.io/en/latest/getting_started/multiple_instances.html#discord-bots-and-asynchronous-environments for more info.\n",
            "\n",
            "It appears that you are using PRAW in an asynchronous environment.\n",
            "It is strongly recommended to use Async PRAW: https://asyncpraw.readthedocs.io.\n",
            "See https://praw.readthedocs.io/en/latest/getting_started/multiple_instances.html#discord-bots-and-asynchronous-environments for more info.\n",
            "\n",
            "It appears that you are using PRAW in an asynchronous environment.\n",
            "It is strongly recommended to use Async PRAW: https://asyncpraw.readthedocs.io.\n",
            "See https://praw.readthedocs.io/en/latest/getting_started/multiple_instances.html#discord-bots-and-asynchronous-environments for more info.\n",
            "\n",
            "It appears that you are using PRAW in an asynchronous environment.\n",
            "It is strongly recommended to use Async PRAW: https://asyncpraw.readthedocs.io.\n",
            "See https://praw.readthedocs.io/en/latest/getting_started/multiple_instances.html#discord-bots-and-asynchronous-environments for more info.\n",
            "\n",
            "It appears that you are using PRAW in an asynchronous environment.\n",
            "It is strongly recommended to use Async PRAW: https://asyncpraw.readthedocs.io.\n",
            "See https://praw.readthedocs.io/en/latest/getting_started/multiple_instances.html#discord-bots-and-asynchronous-environments for more info.\n",
            "\n",
            "It appears that you are using PRAW in an asynchronous environment.\n",
            "It is strongly recommended to use Async PRAW: https://asyncpraw.readthedocs.io.\n",
            "See https://praw.readthedocs.io/en/latest/getting_started/multiple_instances.html#discord-bots-and-asynchronous-environments for more info.\n",
            "\n",
            "It appears that you are using PRAW in an asynchronous environment.\n",
            "It is strongly recommended to use Async PRAW: https://asyncpraw.readthedocs.io.\n",
            "See https://praw.readthedocs.io/en/latest/getting_started/multiple_instances.html#discord-bots-and-asynchronous-environments for more info.\n",
            "\n",
            "It appears that you are using PRAW in an asynchronous environment.\n",
            "It is strongly recommended to use Async PRAW: https://asyncpraw.readthedocs.io.\n",
            "See https://praw.readthedocs.io/en/latest/getting_started/multiple_instances.html#discord-bots-and-asynchronous-environments for more info.\n",
            "\n",
            "It appears that you are using PRAW in an asynchronous environment.\n",
            "It is strongly recommended to use Async PRAW: https://asyncpraw.readthedocs.io.\n",
            "See https://praw.readthedocs.io/en/latest/getting_started/multiple_instances.html#discord-bots-and-asynchronous-environments for more info.\n",
            "\n",
            "It appears that you are using PRAW in an asynchronous environment.\n",
            "It is strongly recommended to use Async PRAW: https://asyncpraw.readthedocs.io.\n",
            "See https://praw.readthedocs.io/en/latest/getting_started/multiple_instances.html#discord-bots-and-asynchronous-environments for more info.\n",
            "\n",
            "It appears that you are using PRAW in an asynchronous environment.\n",
            "It is strongly recommended to use Async PRAW: https://asyncpraw.readthedocs.io.\n",
            "See https://praw.readthedocs.io/en/latest/getting_started/multiple_instances.html#discord-bots-and-asynchronous-environments for more info.\n",
            "\n",
            "It appears that you are using PRAW in an asynchronous environment.\n",
            "It is strongly recommended to use Async PRAW: https://asyncpraw.readthedocs.io.\n",
            "See https://praw.readthedocs.io/en/latest/getting_started/multiple_instances.html#discord-bots-and-asynchronous-environments for more info.\n",
            "\n",
            "It appears that you are using PRAW in an asynchronous environment.\n",
            "It is strongly recommended to use Async PRAW: https://asyncpraw.readthedocs.io.\n",
            "See https://praw.readthedocs.io/en/latest/getting_started/multiple_instances.html#discord-bots-and-asynchronous-environments for more info.\n",
            "\n",
            "It appears that you are using PRAW in an asynchronous environment.\n",
            "It is strongly recommended to use Async PRAW: https://asyncpraw.readthedocs.io.\n",
            "See https://praw.readthedocs.io/en/latest/getting_started/multiple_instances.html#discord-bots-and-asynchronous-environments for more info.\n",
            "\n",
            "It appears that you are using PRAW in an asynchronous environment.\n",
            "It is strongly recommended to use Async PRAW: https://asyncpraw.readthedocs.io.\n",
            "See https://praw.readthedocs.io/en/latest/getting_started/multiple_instances.html#discord-bots-and-asynchronous-environments for more info.\n",
            "\n",
            "It appears that you are using PRAW in an asynchronous environment.\n",
            "It is strongly recommended to use Async PRAW: https://asyncpraw.readthedocs.io.\n",
            "See https://praw.readthedocs.io/en/latest/getting_started/multiple_instances.html#discord-bots-and-asynchronous-environments for more info.\n",
            "\n",
            "It appears that you are using PRAW in an asynchronous environment.\n",
            "It is strongly recommended to use Async PRAW: https://asyncpraw.readthedocs.io.\n",
            "See https://praw.readthedocs.io/en/latest/getting_started/multiple_instances.html#discord-bots-and-asynchronous-environments for more info.\n",
            "\n",
            "It appears that you are using PRAW in an asynchronous environment.\n",
            "It is strongly recommended to use Async PRAW: https://asyncpraw.readthedocs.io.\n",
            "See https://praw.readthedocs.io/en/latest/getting_started/multiple_instances.html#discord-bots-and-asynchronous-environments for more info.\n",
            "\n",
            "It appears that you are using PRAW in an asynchronous environment.\n",
            "It is strongly recommended to use Async PRAW: https://asyncpraw.readthedocs.io.\n",
            "See https://praw.readthedocs.io/en/latest/getting_started/multiple_instances.html#discord-bots-and-asynchronous-environments for more info.\n",
            "\n",
            "It appears that you are using PRAW in an asynchronous environment.\n",
            "It is strongly recommended to use Async PRAW: https://asyncpraw.readthedocs.io.\n",
            "See https://praw.readthedocs.io/en/latest/getting_started/multiple_instances.html#discord-bots-and-asynchronous-environments for more info.\n",
            "\n",
            "It appears that you are using PRAW in an asynchronous environment.\n",
            "It is strongly recommended to use Async PRAW: https://asyncpraw.readthedocs.io.\n",
            "See https://praw.readthedocs.io/en/latest/getting_started/multiple_instances.html#discord-bots-and-asynchronous-environments for more info.\n",
            "\n",
            "It appears that you are using PRAW in an asynchronous environment.\n",
            "It is strongly recommended to use Async PRAW: https://asyncpraw.readthedocs.io.\n",
            "See https://praw.readthedocs.io/en/latest/getting_started/multiple_instances.html#discord-bots-and-asynchronous-environments for more info.\n",
            "\n",
            "It appears that you are using PRAW in an asynchronous environment.\n",
            "It is strongly recommended to use Async PRAW: https://asyncpraw.readthedocs.io.\n",
            "See https://praw.readthedocs.io/en/latest/getting_started/multiple_instances.html#discord-bots-and-asynchronous-environments for more info.\n",
            "\n",
            "It appears that you are using PRAW in an asynchronous environment.\n",
            "It is strongly recommended to use Async PRAW: https://asyncpraw.readthedocs.io.\n",
            "See https://praw.readthedocs.io/en/latest/getting_started/multiple_instances.html#discord-bots-and-asynchronous-environments for more info.\n",
            "\n",
            "It appears that you are using PRAW in an asynchronous environment.\n",
            "It is strongly recommended to use Async PRAW: https://asyncpraw.readthedocs.io.\n",
            "See https://praw.readthedocs.io/en/latest/getting_started/multiple_instances.html#discord-bots-and-asynchronous-environments for more info.\n",
            "\n",
            "It appears that you are using PRAW in an asynchronous environment.\n",
            "It is strongly recommended to use Async PRAW: https://asyncpraw.readthedocs.io.\n",
            "See https://praw.readthedocs.io/en/latest/getting_started/multiple_instances.html#discord-bots-and-asynchronous-environments for more info.\n",
            "\n"
          ],
          "name": "stderr"
        },
        {
          "output_type": "stream",
          "text": [
            "It took 1386.51seconds to analyze 10133 comments in  22 posts in 1 subreddits\n"
          ],
          "name": "stdout"
        }
      ]
    },
    {
      "cell_type": "code",
      "metadata": {
        "colab": {
          "base_uri": "https://localhost:8080/"
        },
        "id": "wAZhKc5lCTnf",
        "outputId": "dc104f95-c70d-4b97-bb83-87ead9a648eb"
      },
      "source": [
        "print(f\" {picks} most mentioned picks: \")\n",
        "times=[] # times appeared\n",
        "top=[] # top 10 tickers and times appeared , list in a dict\n",
        "\n",
        "for i in top_picks:\n",
        "  print(f\"{i}:{symbols[i]}\")\n",
        "  times.append(symbols[i])\n",
        "  top.append(f\"{i}:{symbols[i]}\")\n",
        "print(times)\n",
        "print(top)"
      ],
      "execution_count": null,
      "outputs": [
        {
          "output_type": "stream",
          "text": [
            " 10 most mentioned picks: \n",
            "GME:76\n",
            "AMC:72\n",
            "SPCE:24\n",
            "TSLA:8\n",
            "PLTR:7\n",
            "BABA:5\n",
            "[76, 72, 24, 8, 7, 5]\n",
            "['GME:76', 'AMC:72', 'SPCE:24', 'TSLA:8', 'PLTR:7', 'BABA:5']\n"
          ],
          "name": "stdout"
        }
      ]
    },
    {
      "cell_type": "code",
      "metadata": {
        "id": "lx3y0Z8ycY2P"
      },
      "source": [
        ""
      ],
      "execution_count": null,
      "outputs": []
    },
    {
      "cell_type": "code",
      "metadata": {
        "id": "g16V0JP-cZiN"
      },
      "source": [
        ""
      ],
      "execution_count": null,
      "outputs": []
    },
    {
      "cell_type": "code",
      "metadata": {
        "colab": {
          "base_uri": "https://localhost:8080/"
        },
        "id": "-U_KgRFFCTqi",
        "outputId": "6cae92be-5970-43d0-8134-2651c5e1737e"
      },
      "source": [
        "# Applying Sentiment Analysis\n",
        "\n",
        "scores, s = {}, {}\n",
        "\n",
        "new_words = {\n",
        "    'citron': -4.0,\n",
        "    'hidenburg': -4.0,\n",
        "    'moon': 4.0,\n",
        "    'highs': 2.0,\n",
        "    'mooning': 4.0,\n",
        "    'long': 2.0,\n",
        "    'short': -2.0,\n",
        "    'call': 4.0,\n",
        "    'calls': 4.0,\n",
        "    'put': -4.0,\n",
        "    'puts': -4.0,\n",
        "    'break': 2.0,\n",
        "    'tendie': 2.0,\n",
        "     'tendies': 2.0,\n",
        "     'town': 2.0,\n",
        "     'overvalued': -3.0,\n",
        "     'undervalued': 3.0,\n",
        "     'buy': 4.0,\n",
        "     'sell': -4.0,\n",
        "     'gone': -1.0,\n",
        "     'gtfo': -1.7,\n",
        "     'paper': -1.7,\n",
        "     'bullish': 3.7,\n",
        "     'bearish': -3.7,\n",
        "     'bagholder': -1.7,\n",
        "     'stonk': 1.9,\n",
        "     'green': 1.9,\n",
        "     'money': 1.2,\n",
        "     'print': 2.2,\n",
        "     'rocket': 2.2,\n",
        "     'bull': 2.9,\n",
        "     'bear': -2.9,\n",
        "     'pumping': -1.0,\n",
        "     'sus': -3.0,\n",
        "     'offering': -2.3,\n",
        "     'rip': -4.0,\n",
        "     'downgrade': -3.0,\n",
        "     'upgrade': 3.0,\n",
        "     'maintain': 1.0,\n",
        "     'pump': 1.9,\n",
        "     'hot': 1.5,\n",
        "     'drop': -2.5,\n",
        "     'rebound': 1.5,\n",
        "     'crack': 2.5\n",
        "}\n",
        "\n",
        "nltk.download('vader_lexicon')"
      ],
      "execution_count": null,
      "outputs": [
        {
          "output_type": "stream",
          "text": [
            "[nltk_data] Downloading package vader_lexicon to /root/nltk_data...\n"
          ],
          "name": "stdout"
        },
        {
          "output_type": "execute_result",
          "data": {
            "text/plain": [
              "True"
            ]
          },
          "metadata": {
            "tags": []
          },
          "execution_count": 19
        }
      ]
    },
    {
      "cell_type": "code",
      "metadata": {
        "id": "L1EL9U5eCTtQ"
      },
      "source": [
        "vader = SentimentIntensityAnalyzer()\n",
        "# adding custom words from new_words above\n",
        "vader.lexicon.update(new_words)"
      ],
      "execution_count": null,
      "outputs": []
    },
    {
      "cell_type": "code",
      "metadata": {
        "colab": {
          "base_uri": "https://localhost:8080/"
        },
        "id": "YeMWC2jZCTv3",
        "outputId": "8f2bf067-b50a-48bc-a772-c046ed73cfbd"
      },
      "source": [
        "picks_sentiment=list(symbols.keys())[0:picks_ayz] #top 5\n",
        "print(picks_sentiment)\n",
        "print(a_comments)"
      ],
      "execution_count": null,
      "outputs": [
        {
          "output_type": "stream",
          "text": [
            "['GME', 'AMC', 'SPCE', 'TSLA', 'PLTR']\n",
            "{'PLTR': ['Just received an email from Schwab asking me to lend out my shares for shorts. \\n\\nI’m only holding CLOV and PLTR as far as individual stocks go. \\n\\nCLOV must be really hard to borrow right now.', 'Someone put some life into PLTR', 'Ahh, so _that’s_ what it feels like to invest in PLTR', 'Hold PLTR like always.', 'Wtf are y’all doing to my PLTR bags', 'PLTR dumping but why?', 'Tesla PLTR'], 'SPCE': ['SPCE TOMORROW $50+', 'I bought a fuckload of SPY and QQQ puts alongside UVXY calls this morning with no daytrades left using like half of my account after SPCE calls got me up to 800% gains. My account tipped over 25k and it was the perfect timing to allow me to sell all the fuckin puts I bought. \\n\\nI was just happy with my gains, but holy fuckin shit I thought SPY and QQQ were gonna keep sliding. I feel like mothafuckin Gordon Gecko in this bitch', 'Holding my SPCE until the launch.', 'All the “experts” who think SPCE had too good of a run and that everyone should sell are going to look even more stupid after this weekend.🚀', 'SPCE will shoot up next Monday 7/12, flight is scheduled early morning Sunday 7/11, easy money.', 'SPCE closing above $52 signals a breakout. Falling and closing below $44 says we continue downtrend.', 'SPCE to 100 next week', 'If you’ve been watching SPCE for more than a week, you know that there’s no way in hell they’re flying anything this week. My money is on “poor weather conditions”.', 'Where are my SPCE gang members at?', 'Fuck it sell all of SPCE and going into amc', 'SPCE hitting $50+ tomorrow', 'SPCE bout to blast off', 'Same late day consolidation pattern for SPCE as on Friday. Bullish.', 'SPCE this week 🚀', \"SPCE is going to rise again this week as we get closer to big weekend launch. It will likely gap up with retail piling in Mon. So get in now. Volatility assured. \\n\\nThis company can easily scale to be more than a $8bn global player by 2026, at around $350-700 per share. Today's prices are a long term bargain. Imo.\\n\\nThey are probably going to announce global expansion plans sometime this year. They already have 4 spaceships, 1 operational, 1 in fitting out, 2 in production, ready for commercial operations starting in 2022. \\n\\n🚀🚀🚀🤑🤑🤑\", 'SPCE already up 4% premarket nice I got 45cs check my post history', 'SPCE to $100 is inevitable', 'SPCE VERY MOONISH!!!🚀🚀', 'SPCE calls Friday at close was easy mode fam', 'SPCE  +5%', 'SPCE all in the moon', 'SPCE PM 🚀🚀', 'We mooning today bois? $SPCE $TSLA', \"(more) 7/16 SPCE calls - doubt I'm the only one. Retarded or stupid?\"], 'GME': ['In all honesty, mods should just straight up ban GME from this page and anybody who is a part of the supercult, it’s getting beyond ridiculous. Even a simple factual statement like ‘SI on GME is around 20%’ will get you swarmed by drones convinced you and everyone else who isn’t on their knees sucking off Ryan Cohen are a shill.\\n\\nIt’s turned into qanon, seriously. They claim all conflicting opinions are ‘FUD’, all media outlets outside of their own are shills, trust the ‘DD’ (trust the plan). It’s fucking insufferable.', 'I hate the people that say they’re yoloing GME and AMC and then buy shares. That’s not a yolo play\\n\\nYolo play is buying weeklies on a volatile stock or 0DTE SPY calls', 'GME 7/30s are the way. Literally any strike. 7/14/21 gonna be epic. Actually anything after this friday gonna be wild. \\n\\nAlexa, play Friday by Rebecca Black.', \"I like how we almost let them kill our boy GME but then we said PSYCH! Tomorrow I'm picking up some GME options and I wanna see big things out of you retard fucks.\", 'GME from $280', 'I was thinkin about entering CLOV, but then GME is back on wsb. You guys killin me. But CLOV lookin so hot damn, call the police and the firemen', 'I may be bagholding GME but at least I don’t have BABA calls. \\n\\n>!The BABA calls expired worthless last week!<', 'AMC ended below 50 and GME below 200. Might see res double digits tomorrow for those.', 'Anyone know of any solid numbers regarding short float on GME and AMC?', 'Held GME through the dark times and came out on top. AMC will be no different. Buffalo dipped chicken tenders at the end of that rainbow.', 'Melvian [capital](https://duckduckgo.com/?q=chuckles+im+in+danger+meme&t=h_&iax=images&ia=images&iai=https%3A%2F%2Fpics.me.me%2Fgency-exit-chuckles-im-in-danger-32763253.png) when they see GME is at the top of wsb daily popular tickers thread!!!', 'Most of y’all haven’t actually read any GME dd and it shows', 'GME today\\n\\nAMC this Friday with Black Widow\\n\\n🚀 🚀', 'PUSH GME PUSH ❤🚀', 'GME news?', 'Last Chance to join AMC and GME 🚀🌝', 'Power hour soon.  AMC and GME green for the day??', 'AMC and GME mooning very soon. Dip before moon expected. previous moon charts all similar. Thanks', \"Theres no way AMC and GME aren't on the threshold securities list today for fucks sakes!\", 'Everybody hop on GME on the dip. Let’s 🚀 it to the moon in the next hour!', 'Cmon GME I want trading halts', \"Guess the dumbass who bought GME at $250? Fuck my ass with hot sauce lubed dildo cause that's sure feels better then this massive red I'm seeing 🤦\", 'AMC GME 🌈🐻 👎🏻', 'GME AMC CLOV trading patterns are roughly the same. Seems like a good sign for CLOV and also GME AMC. can someone elaborate as to why this is happening and why it could be a good sign?', \"Love seeing good ol' GME back on here reminds me of the holy moly days, little unfortunate its lumped in with that other garbage though\", \"It's funny to see guys who missed GME, AMC and BB praising CLOV and talking shit about meme stocks. WSB community bought GME under $50 and AMC, BB under $10. Most of us made already 1000% gains. \\n\\nI dont even care if GME, AMC or BB drops 20% in a day, because i sold GME at $320 bought back again at $40 if it goes to 0 i'm still in big profits. Sold AMC around $18 bought back at $9 and planning to hold untill over $100. BB is the only one where i have a loss, but i dont even care. If it goes to above $20 nice for me, but if drops to 0 shit happens. Still in big profits with the other 2.\", 'we doin GME again?', 'To all the GME and AMC bag holders cheering and shilling CLOV, y’all are bleeding too, simmer the fuck down.', 'I just bought the GME dip.  Picked up X shares at $195.  Feeling good about my total XX shares.  To the MOON ALICE!!!', 'That GME chart looks real bullish....', 'People should stop compare GME with gold. GME is like a golden ticket to freedom, straight from the philanthropists of the year KENNY G AND FRIENDS', 'A lil GME dip goes good with some tendies 🍗', 'I’m saying this out of love for you Clov’ers, what AMC and GME are doing to keep their head above the water while the shorts keep trying to drown us is VERY hard and is not easily replicated. Just because CLOV has the potential to squeeze, doesn’t mean it will. It needs a lot of media attention and retail investors to truly beat these shorts who have an unreal amount of resources to fight us. I hope you guys make money off it, but sometimes a little outside perspective can help bring some of you to realization of getting out while you can. I’m not an expert by any means, but that’s just my opinion on the situation.', \"GME trading under $200 isn't giving me much confidence for this week.\\n\\n&#x200B;\\n\\nI remember what seemed like months when it was knocking on the $180 door.\", 'Holding GME has been the least stressful stock to own, love it', 'GME will close green', 'Maybe not today, maybe not tomorrow, but all the pieces are in place for GME to neutron bomb the market on a biblical scale.\\n\\nThe first shall be last and the last shall be first.', 'GME is so clutch, once again proves to be OP. Haters gonna hate', 'GME to 🚀🚀🚀🚀🚀', 'GME is having a 🔥sale!  💎🙌🏻', 'Why is GME all a sudden in the hype thread?', \"Imagine not owning GME shares, couldn't be me\", \"Forget clov just GME n that's all folks\", '$AMC $GME merger. Theatre chain to host live gaming tournaments on the big screen. Wouldn’t that headline be spicy', 'GME 07/06 $237 Calls. Print it baby', 'Buying GME less than 200 is literally free money', 'Time to average down on GME soon🤪 can’t wait to get xxx', 'WISH advertises nice products then sends you  Chinese trash \\n\\nGME fucked us all for decades by giving us 50 cents for a game then selling it back to us for $30.\\n\\nAMC fucked us for decades by charging $15 fucking dollars for a soda and popcorn\\n\\n\\nWhy do apes seem to exclusively rally around companies that treat us like shit? Is this some sort of financial Stockholm syndrome or some shit?', 'GME is my wife, AMC is my side bitch and WISH is my friend with benefits!', \"With news about Delta-variant and declining vaccine efficacy in general and in particular regarding delta variant i would be worried holding some stocks. GME seems fine though since we probably will still be able to go to the stores and e-commerce will continue to grow. Also people will probably play more games. \\n\\nI'd be a bit worried about theaters.\", 'GME is back on WSB. Nice! Leggo!!! Good luck to AMC and BB as well. Tendies all around.', 'I just realized GME has been flatlining for a month now. If you ever needed a time to invest it’s now. I’m definitely buying more at market open. This thing is about to lift off', '$12k in GME LETS GOOOOOO 🚀🚀🚀🚀', 'Reminder that GME has bounced off 200 about 4 or 5 times in the last month, and was green in the German market today. This stock cannot come at a better discount', 'GME AMC CLOV Make me financially free already cpc', 'Just how high will GME go tomorrow???', 'Have any of the GME shorts covered? I have a smooth brain, just curious.', 'I bought GME at $110 after selling a few weeks before at $40 it changed my life, I love the potential of GME stock, especially with new CEO Ryan Cohen.  Bye/hold, Buckleup.', \"GME was up 4% today in germany, we lookin' up. Finally!\", 'GME GME GME', 'Price target for GME for the next 2 weeks? Thinking of firing up some FD calls 🔮😈', 'Get ready for the Biggest Short Squeeze of our Lifetime 🚀🚀🚀\\U0001fa90 $GME 🙌🏻💎🚀🚀🚀', 'Still carrying AMC & GME on my back like mistresses DDs when she demands a piggy-back ride 🤤💎💎🙌🏾', 'GME and AMC are the only true squeeze plays.', \"Real fucking funny, mods. AMC GME showing up in this bitch on market's day off. Clever\", 'Oh shit! GME got a daily back! 🚀🚀', 'Something happen with GME over the weekend? Been away what did i miss?', 'GME 🚀🚀🚀🚀🦍🦍🦍🦍\\nLets goooooooo', 'When should i buy GME and if I did what are your predictions for GME?', 'GME is the next GME', 'Reddit awards are for the 🌈🐻s. Buy GME', 'GME getting another day of rest before it’s run', 'GME 202.83 EOD', \"Lol, GME on the popular ticker thread today when US markets ain't even open? \\n\\n\\nCome on guys, how much you wanna bet WSBs won't have GME included in a popular ticker thread tomorrow when everything open again????\", 'I am a bag holder of the legend GME and CLOV !!!\\n\\nAnd willing to get more profit from them thanks to my Apes.\\n\\nBULLISH\\n\\n![gif](emote|free_emotes_pack|give_upvote)', 'Seeing GME in the daily popular thread makes me moister than an oyster'], 'AMC': ['I hate the people that say they’re yoloing GME and AMC and then buy shares. That’s not a yolo play\\n\\nYolo play is buying weeklies on a volatile stock or 0DTE SPY calls', 'Wen AMC moon?', 'AMC belongs to the streets!', 'AMC ended below 50 and GME below 200. Might see res double digits tomorrow for those.', 'Adam Aron:  I see you, I hear you, I value you.\\n\\nAMC stock:  Tanks.\\n\\nI think I’d rather not be seen, heard, or valued thanks tho.', 'Held GME through the dark times and came out on top. AMC will be no different. Buffalo dipped chicken tenders at the end of that rainbow.', 'YO WTF HAPPENED TODAY AMC APES?!', 'AMC going lower AH', 'This the only thread left?  Guess we’re all YOLOing AMC then.', 'GME today\\n\\nAMC this Friday with Black Widow\\n\\n🚀 🚀', 'Still holding CLOV, deep in it to win it bags are a bit heavy but keep buying more and averaging down, AMC has been good to me', 'Like how AMC is bullish!', 'Last Chance to join AMC and GME 🚀🌝', 'AMC is about to go full retard 🚀🌕', 'AMC puts fuckin printing', 'AMC at 50$??? WHAT A STEAL', 'Power hour soon.  AMC and GME green for the day??', 'AMC and GME mooning very soon. Dip before moon expected. previous moon charts all similar. Thanks', 'Cmon AMC', \"Theres no way AMC and GME aren't on the threshold securities list today for fucks sakes!\", '# AMC is on her period but will it last a week?', 'AMC looks like a sinking ship.... 5min volume spikes the last 3 candles will push it lower. Indicates who ever bought the dip Friday is taking profit/bugging out.', 'Looks like AMC should’ve just done the offering lol', \"I thought the rule was gme and AMC aren't allowed to tank at the same time?!? Having both now I know what a DP feels like\", 'AMC GME 🌈🐻 👎🏻', 'GME AMC CLOV trading patterns are roughly the same. Seems like a good sign for CLOV and also GME AMC. can someone elaborate as to why this is happening and why it could be a good sign?', 'AMC quit playing games with my heart 💔', 'This morning started so strong I thought $AMC would be at $56', 'AMC EOW predictions. Go!', \"It's funny to see guys who missed GME, AMC and BB praising CLOV and talking shit about meme stocks. WSB community bought GME under $50 and AMC, BB under $10. Most of us made already 1000% gains. \\n\\nI dont even care if GME, AMC or BB drops 20% in a day, because i sold GME at $320 bought back again at $40 if it goes to 0 i'm still in big profits. Sold AMC around $18 bought back at $9 and planning to hold untill over $100. BB is the only one where i have a loss, but i dont even care. If it goes to above $20 nice for me, but if drops to 0 shit happens. Still in big profits with the other 2.\", 'Them shorts are really trying hard knowing their time is coming to end soon\\n\\nAMC 🦍💎🦍', 'To all the GME and AMC bag holders cheering and shilling CLOV, y’all are bleeding too, simmer the fuck down.', \"I ain't selling AMC 💎👐\", 'I need Branson to fly a rocket carrying a CLOV banner while watching an AMC movies on his way to buy a nintendo switch from gamestop to get my portfolio even remotely back to even.', 'CEO Adam for AMC really tried his best to boost the stock over the weekend with his tweets and removal of dilution vote, I saw huge buying volume in the first 2 minutes of market open then it immediately died out. Normally I would say that this would just slowly decay over time but the amount of buying at the open (new bagholders and averaging up from existing bagholders) leads me to believe within the next 2 weeks we will see apes recognize that there is not going to be a 3rd squeeze from a 27b market cap and rush for the exit. Into the low-mid 30s then bounce back to high 30s / low 40s is likely next for $AMC', 'AMC MUTHAFUCKAAAAAAAAAA. \\n\\nTHAT IS ALL', \"AMC was always a monster in premarket and first 3 days of the week but last couple of weeks it's been meh 🤔\", \"I bought into AMC back in January at close to $8. It was priced around $5 for the entire month of February. Needless to say, this CLOV dip doesn't faze me. Patience is 🔑 here 🐵🐵🐵🐵\", 'Told you guys to buy CLOV 1 month ago when it was at 7-8. Sold at $26:\\r  \\n\\r  \\n[https://www.reddit.com/r/wallstreetbets/comments/ndwk25/what\\\\_are\\\\_your\\\\_moves\\\\_tomorrow\\\\_may\\\\_17\\\\_2021/gyf8vuu/?context=3](https://www.reddit.com/r/wallstreetbets/comments/ndwk25/what_are_your_moves_tomorrow_may_17_2021/gyf8vuu/?context=3)\\n\\n  \\nNow I\\'m telling you to wait for the $7-8 dip again. It\\'ll spike again as soon as AMC or the next \"AMC\" ticker gets short squeeze attention. If you buy now with this garbabe volume you\\'ll only slow bleed and baghold. Will probably get downvoted like I did when I recommended CLOV at 7 but at least I\\'m saving some of u from losing money. Be safe out there guys.', 'I’m saying this out of love for you Clov’ers, what AMC and GME are doing to keep their head above the water while the shorts keep trying to drown us is VERY hard and is not easily replicated. Just because CLOV has the potential to squeeze, doesn’t mean it will. It needs a lot of media attention and retail investors to truly beat these shorts who have an unreal amount of resources to fight us. I hope you guys make money off it, but sometimes a little outside perspective can help bring some of you to realization of getting out while you can. I’m not an expert by any means, but that’s just my opinion on the situation.', 'AMC got me feeling like one of those guys on viagra that has had an erection for more than 4 hours........ CUM on already!', 'Jumpy line on AMC', '25mil share sales has been scraped. AMC time to go vertical 🚀', 'AMC is looking strong 💪🏾😎', '$AMC $GME merger. Theatre chain to host live gaming tournaments on the big screen. Wouldn’t that headline be spicy', 'AMC 🙌💎🚀', 'WISH advertises nice products then sends you  Chinese trash \\n\\nGME fucked us all for decades by giving us 50 cents for a game then selling it back to us for $30.\\n\\nAMC fucked us for decades by charging $15 fucking dollars for a soda and popcorn\\n\\n\\nWhy do apes seem to exclusively rally around companies that treat us like shit? Is this some sort of financial Stockholm syndrome or some shit?', \"Holding AMC today. I'm feeling positive that the squeeze is approaching.\", 'GME is my wife, AMC is my side bitch and WISH is my friend with benefits!', 'AMC BABY', 'GME is back on WSB. Nice! Leggo!!! Good luck to AMC and BB as well. Tendies all around.', 'AMC gong to Pamp this week!  Shorts are manipulating all that they can and you know what, they can’t stop the inevitable, and still have to cover. They want to get us off the play with media smear ads, but apes numb to their tactics.  The more they tell me not to buy, I buy. Sorry, jacked to the tits.', 'Remember when AMC went from $9-$12 to $50-$70? Wonder how soon the next leap will be', 'AMC is showing the McGregor fight in all its locations on Saturday. My prediction is they make alot of $ and this becomes a new revenue model.', \"**if  $AMC HITS  80  THIS WEEK   I'LL LET YOU BORROW MY HOT GIRLFRIEND!! ..WITHOUT HER LOVER OF COURSE... HE WOULD JUST SIT THERE AND WATCH YOU   HANKY PANKY MY GIRL!  😎😎👍😎😎👍=======================================**\", 'AMC gonna rip tomorrow!', 'GME AMC CLOV Make me financially free already cpc', 'BTW Jim Chanos (infamous TSLA short)is making fun or AMC and CLOV on Twitter\\n\\nhttps://twitter.com/wallstcynic/status/1411732143038943235?s=21', 'AMC ITS TIME AGAIN🍿🍿', 'AMC is going to show the UFC PPV fight…$25 a ticket.\\n\\nEdit:  maybe you dorks forgot where you are or what downvotes are for…but that’s financial information about a company in the thread we’re in lol', '#I AM NOT SELLING MY AMC\\n\\nMarket is closed today', 'Still carrying AMC & GME on my back like mistresses DDs when she demands a piggy-back ride 🤤💎💎🙌🏾', 'GME and AMC are the only true squeeze plays.', 'Someone said AMC will shit itself and dip to $20. I honestly think he missed a 0.', \"Real fucking funny, mods. AMC GME showing up in this bitch on market's day off. Clever\", 'AMC got bars and live sports on Imax.  Cheers!', 'Sooo we still holdin on to AMC or what?', 'Waiting for AMC Tendies', \"I'm gonna go look for a four leaf clover, I could use the confidence boost. Also I have nothing better to do. Good luck gme, AMC and $clov\\nMay the odds be ever in your favor.\", 'Loading up on AMC', 'AMC will moon again! \\n\\nEventually', 'Got a few AMC 55c on 7/9 I’m rootin’ for. Daddy needs new rotors'], 'BABA': ['I’m swinging BABA and NIO calls into tomorrow', 'I may be bagholding GME but at least I don’t have BABA calls. \\n\\n>!The BABA calls expired worthless last week!<', \"sank about 10k into BABA calls for January\\n\\nI made this same play a few months back and it worked well\\n\\nanalyst price targets in 1000s... don't think i'll stick around for that\", 'Buddy with 10mill yolo in BABA deleted his account', 'If BABA doesnt moon in 6months, then value investing is a scam'], 'TSLA': ['never felt more bullish on TSLA', 'Is there any chance that TSLA goes up tomorrow', 'So happy I sold all my TSLA on Friday', 'TSLA will moon today according to Cathie Wood', 'We mooning today bois? $SPCE $TSLA', 'Guess you can’t bitch about being down 2-4X the market on red days when you are levered and trying to get that on green days. But I still want to bitch about it tbh. I bleed when $TSLA and big tech bleeds. \\n\\n$CRWD trying to hold up my shit up along w $AMZN $GRWG $AAPL $Z and $PLTR, but no match for all the other shit going on/down. Still bought some dips on the day. Just my nature. \\n\\nWell the wife picked fresh raspberries from the garden this morning. At least I got that going for me.', 'Glad TSLA has returned back to her old ways of gagging and cucking me once again.', 'BTW Jim Chanos (infamous TSLA short)is making fun or AMC and CLOV on Twitter\\n\\nhttps://twitter.com/wallstcynic/status/1411732143038943235?s=21']}\n"
          ],
          "name": "stdout"
        }
      ]
    },
    {
      "cell_type": "code",
      "metadata": {
        "colab": {
          "base_uri": "https://localhost:8080/"
        },
        "id": "4hcD6O0TCTyx",
        "outputId": "c8e4d47c-8c08-4081-bdab-a7b93dbbd071"
      },
      "source": [
        "scores, s = {}, {}\n",
        "\n",
        "\n",
        "for symbol in picks_sentiment:\n",
        "  stock_comments=a_comments[symbol]\n",
        "  for cmnt in stock_comments:\n",
        "    score=vader.polarity_scores(cmnt)\n",
        "    if symbol in s:\n",
        "      s[symbol][cmnt]=score\n",
        "    else:\n",
        "      s[symbol]={cmnt:score}\n",
        "\n",
        "    if symbol in scores:\n",
        "      for key, _ in score.items():\n",
        "\n",
        "        scores[symbol][key]+=score[key]\n",
        "\n",
        "    else:\n",
        "      scores[symbol]=score\n",
        "\n",
        "print(s)\n",
        "print(scores)\n",
        "print(score)\n",
        "print(symbols)"
      ],
      "execution_count": null,
      "outputs": [
        {
          "output_type": "stream",
          "text": [
            "{'GME': {'In all honesty, mods should just straight up ban GME from this page and anybody who is a part of the supercult, it’s getting beyond ridiculous. Even a simple factual statement like ‘SI on GME is around 20%’ will get you swarmed by drones convinced you and everyone else who isn’t on their knees sucking off Ryan Cohen are a shill.\\n\\nIt’s turned into qanon, seriously. They claim all conflicting opinions are ‘FUD’, all media outlets outside of their own are shills, trust the ‘DD’ (trust the plan). It’s fucking insufferable.': {'neg': 4.715, 'neu': 58.424, 'pos': 12.86, 'compound': 17.5071}, 'I hate the people that say they’re yoloing GME and AMC and then buy shares. That’s not a yolo play\\n\\nYolo play is buying weeklies on a volatile stock or 0DTE SPY calls': {'neg': 0.25, 'neu': 0.482, 'pos': 0.268, 'compound': 0.5859}, 'GME 7/30s are the way. Literally any strike. 7/14/21 gonna be epic. Actually anything after this friday gonna be wild. \\n\\nAlexa, play Friday by Rebecca Black.': {'neg': 0.054, 'neu': 0.86, 'pos': 0.086, 'compound': 0.2263}, \"I like how we almost let them kill our boy GME but then we said PSYCH! Tomorrow I'm picking up some GME options and I wanna see big things out of you retard fucks.\": {'neg': 0.283, 'neu': 0.675, 'pos': 0.042, 'compound': -0.9003}, 'GME from $280': {'neg': 0.0, 'neu': 1.0, 'pos': 0.0, 'compound': 0.0}, 'I was thinkin about entering CLOV, but then GME is back on wsb. You guys killin me. But CLOV lookin so hot damn, call the police and the firemen': {'neg': 0.097, 'neu': 0.614, 'pos': 0.289, 'compound': 0.8686}, 'I may be bagholding GME but at least I don’t have BABA calls. \\n\\n>!The BABA calls expired worthless last week!<': {'neg': 0.115, 'neu': 0.449, 'pos': 0.436, 'compound': 0.9292}, 'AMC ended below 50 and GME below 200. Might see res double digits tomorrow for those.': {'neg': 0.0, 'neu': 1.0, 'pos': 0.0, 'compound': 0.0}, 'Anyone know of any solid numbers regarding short float on GME and AMC?': {'neg': 0.192, 'neu': 0.705, 'pos': 0.103, 'compound': -0.34}, 'Held GME through the dark times and came out on top. AMC will be no different. Buffalo dipped chicken tenders at the end of that rainbow.': {'neg': 0.077, 'neu': 0.804, 'pos': 0.119, 'compound': 0.0516}, 'Melvian [capital](https://duckduckgo.com/?q=chuckles+im+in+danger+meme&t=h_&iax=images&ia=images&iai=https%3A%2F%2Fpics.me.me%2Fgency-exit-chuckles-im-in-danger-32763253.png) when they see GME is at the top of wsb daily popular tickers thread!!!': {'neg': 0.0, 'neu': 0.719, 'pos': 0.281, 'compound': 0.6679}, 'Most of y’all haven’t actually read any GME dd and it shows': {'neg': 0.0, 'neu': 1.0, 'pos': 0.0, 'compound': 0.0}, 'GME today\\n\\nAMC this Friday with Black Widow\\n\\n🚀 🚀': {'neg': 0.0, 'neu': 1.0, 'pos': 0.0, 'compound': 0.0}, 'PUSH GME PUSH ❤🚀': {'neg': 0.0, 'neu': 1.0, 'pos': 0.0, 'compound': 0.0}, 'GME news?': {'neg': 0.0, 'neu': 1.0, 'pos': 0.0, 'compound': 0.0}, 'Last Chance to join AMC and GME 🚀🌝': {'neg': 0.0, 'neu': 0.588, 'pos': 0.412, 'compound': 0.4939}, 'Power hour soon.  AMC and GME green for the day??': {'neg': 0.0, 'neu': 0.734, 'pos': 0.266, 'compound': 0.504}, 'AMC and GME mooning very soon. Dip before moon expected. previous moon charts all similar. Thanks': {'neg': 0.0, 'neu': 0.401, 'pos': 0.599, 'compound': 0.9633}, \"Theres no way AMC and GME aren't on the threshold securities list today for fucks sakes!\": {'neg': 0.269, 'neu': 0.625, 'pos': 0.106, 'compound': -0.5255}, 'Everybody hop on GME on the dip. Let’s 🚀 it to the moon in the next hour!': {'neg': 0.0, 'neu': 0.739, 'pos': 0.261, 'compound': 0.7424}, 'Cmon GME I want trading halts': {'neg': 0.0, 'neu': 0.755, 'pos': 0.245, 'compound': 0.0772}, \"Guess the dumbass who bought GME at $250? Fuck my ass with hot sauce lubed dildo cause that's sure feels better then this massive red I'm seeing 🤦\": {'neg': 0.27, 'neu': 0.534, 'pos': 0.196, 'compound': -0.5994}, 'AMC GME 🌈🐻 👎🏻': {'neg': 0.0, 'neu': 1.0, 'pos': 0.0, 'compound': 0.0}, 'GME AMC CLOV trading patterns are roughly the same. Seems like a good sign for CLOV and also GME AMC. can someone elaborate as to why this is happening and why it could be a good sign?': {'neg': 0.0, 'neu': 0.794, 'pos': 0.206, 'compound': 0.8074}, \"Love seeing good ol' GME back on here reminds me of the holy moly days, little unfortunate its lumped in with that other garbage though\": {'neg': 0.085, 'neu': 0.692, 'pos': 0.223, 'compound': 0.659}, \"It's funny to see guys who missed GME, AMC and BB praising CLOV and talking shit about meme stocks. WSB community bought GME under $50 and AMC, BB under $10. Most of us made already 1000% gains. \\n\\nI dont even care if GME, AMC or BB drops 20% in a day, because i sold GME at $320 bought back again at $40 if it goes to 0 i'm still in big profits. Sold AMC around $18 bought back at $9 and planning to hold untill over $100. BB is the only one where i have a loss, but i dont even care. If it goes to above $20 nice for me, but if drops to 0 shit happens. Still in big profits with the other 2.\": {'neg': 0.115, 'neu': 0.773, 'pos': 0.112, 'compound': -0.0788}, 'we doin GME again?': {'neg': 0.0, 'neu': 1.0, 'pos': 0.0, 'compound': 0.0}, 'To all the GME and AMC bag holders cheering and shilling CLOV, y’all are bleeding too, simmer the fuck down.': {'neg': 0.141, 'neu': 0.726, 'pos': 0.133, 'compound': -0.0516}, 'I just bought the GME dip.  Picked up X shares at $195.  Feeling good about my total XX shares.  To the MOON ALICE!!!': {'neg': 0.0, 'neu': 0.509, 'pos': 0.491, 'compound': 0.9372}, 'That GME chart looks real bullish....': {'neg': 0.0, 'neu': 1.0, 'pos': 0.0, 'compound': 0.0}, 'People should stop compare GME with gold. GME is like a golden ticket to freedom, straight from the philanthropists of the year KENNY G AND FRIENDS': {'neg': 0.065, 'neu': 0.565, 'pos': 0.37, 'compound': 0.8816}, 'A lil GME dip goes good with some tendies 🍗': {'neg': 0.0, 'neu': 0.504, 'pos': 0.496, 'compound': 0.7096}, 'I’m saying this out of love for you Clov’ers, what AMC and GME are doing to keep their head above the water while the shorts keep trying to drown us is VERY hard and is not easily replicated. Just because CLOV has the potential to squeeze, doesn’t mean it will. It needs a lot of media attention and retail investors to truly beat these shorts who have an unreal amount of resources to fight us. I hope you guys make money off it, but sometimes a little outside perspective can help bring some of you to realization of getting out while you can. I’m not an expert by any means, but that’s just my opinion on the situation.': {'neg': 0.059, 'neu': 0.848, 'pos': 0.093, 'compound': 0.645}, \"GME trading under $200 isn't giving me much confidence for this week.\\n\\n&#x200B;\\n\\nI remember what seemed like months when it was knocking on the $180 door.\": {'neg': 0.066, 'neu': 0.746, 'pos': 0.188, 'compound': 0.5809}, 'Holding GME has been the least stressful stock to own, love it': {'neg': 0.0, 'neu': 0.592, 'pos': 0.408, 'compound': 0.7847}, 'GME will close green': {'neg': 0.0, 'neu': 0.508, 'pos': 0.492, 'compound': 0.4404}, 'Maybe not today, maybe not tomorrow, but all the pieces are in place for GME to neutron bomb the market on a biblical scale.\\n\\nThe first shall be last and the last shall be first.': {'neg': 0.115, 'neu': 0.885, 'pos': 0.0, 'compound': -0.6486}, 'GME is so clutch, once again proves to be OP. Haters gonna hate': {'neg': 0.385, 'neu': 0.615, 'pos': 0.0, 'compound': -0.7845}, 'GME to 🚀🚀🚀🚀🚀': {'neg': 0.0, 'neu': 1.0, 'pos': 0.0, 'compound': 0.0}, 'GME is having a 🔥sale!  💎🙌🏻': {'neg': 0.0, 'neu': 1.0, 'pos': 0.0, 'compound': 0.0}, 'Why is GME all a sudden in the hype thread?': {'neg': 0.0, 'neu': 1.0, 'pos': 0.0, 'compound': 0.0}, \"Imagine not owning GME shares, couldn't be me\": {'neg': 0.212, 'neu': 0.788, 'pos': 0.0, 'compound': -0.2235}, \"Forget clov just GME n that's all folks\": {'neg': 0.241, 'neu': 0.759, 'pos': 0.0, 'compound': -0.2263}, '$AMC $GME merger. Theatre chain to host live gaming tournaments on the big screen. Wouldn’t that headline be spicy': {'neg': 0.0, 'neu': 1.0, 'pos': 0.0, 'compound': 0.0}, 'GME 07/06 $237 Calls. Print it baby': {'neg': 0.0, 'neu': 0.379, 'pos': 0.621, 'compound': 0.8481}, 'Buying GME less than 200 is literally free money': {'neg': 0.0, 'neu': 0.56, 'pos': 0.44, 'compound': 0.6705}, 'Time to average down on GME soon🤪 can’t wait to get xxx': {'neg': 0.0, 'neu': 1.0, 'pos': 0.0, 'compound': 0.0}, 'WISH advertises nice products then sends you  Chinese trash \\n\\nGME fucked us all for decades by giving us 50 cents for a game then selling it back to us for $30.\\n\\nAMC fucked us for decades by charging $15 fucking dollars for a soda and popcorn\\n\\n\\nWhy do apes seem to exclusively rally around companies that treat us like shit? Is this some sort of financial Stockholm syndrome or some shit?': {'neg': 0.181, 'neu': 0.665, 'pos': 0.153, 'compound': -0.6733}, 'GME is my wife, AMC is my side bitch and WISH is my friend with benefits!': {'neg': 0.15, 'neu': 0.474, 'pos': 0.376, 'compound': 0.6932}, \"With news about Delta-variant and declining vaccine efficacy in general and in particular regarding delta variant i would be worried holding some stocks. GME seems fine though since we probably will still be able to go to the stores and e-commerce will continue to grow. Also people will probably play more games. \\n\\nI'd be a bit worried about theaters.\": {'neg': 0.071, 'neu': 0.86, 'pos': 0.068, 'compound': -0.0516}, 'GME is back on WSB. Nice! Leggo!!! Good luck to AMC and BB as well. Tendies all around.': {'neg': 0.0, 'neu': 0.465, 'pos': 0.535, 'compound': 0.9321}, 'I just realized GME has been flatlining for a month now. If you ever needed a time to invest it’s now. I’m definitely buying more at market open. This thing is about to lift off': {'neg': 0.0, 'neu': 0.92, 'pos': 0.08, 'compound': 0.4019}, '$12k in GME LETS GOOOOOO 🚀🚀🚀🚀': {'neg': 0.0, 'neu': 1.0, 'pos': 0.0, 'compound': 0.0}, 'Reminder that GME has bounced off 200 about 4 or 5 times in the last month, and was green in the German market today. This stock cannot come at a better discount': {'neg': 0.074, 'neu': 0.836, 'pos': 0.09, 'compound': 0.1265}, 'GME AMC CLOV Make me financially free already cpc': {'neg': 0.0, 'neu': 0.708, 'pos': 0.292, 'compound': 0.5106}, 'Just how high will GME go tomorrow???': {'neg': 0.0, 'neu': 1.0, 'pos': 0.0, 'compound': 0.0}, 'Have any of the GME shorts covered? I have a smooth brain, just curious.': {'neg': 0.0, 'neu': 0.827, 'pos': 0.173, 'compound': 0.3182}, 'I bought GME at $110 after selling a few weeks before at $40 it changed my life, I love the potential of GME stock, especially with new CEO Ryan Cohen.  Bye/hold, Buckleup.': {'neg': 0.0, 'neu': 0.87, 'pos': 0.13, 'compound': 0.6369}, \"GME was up 4% today in germany, we lookin' up. Finally!\": {'neg': 0.0, 'neu': 1.0, 'pos': 0.0, 'compound': 0.0}, 'GME GME GME': {'neg': 0.0, 'neu': 1.0, 'pos': 0.0, 'compound': 0.0}, 'Price target for GME for the next 2 weeks? Thinking of firing up some FD calls 🔮😈': {'neg': 0.112, 'neu': 0.654, 'pos': 0.234, 'compound': 0.5574}, 'Get ready for the Biggest Short Squeeze of our Lifetime 🚀🚀🚀\\U0001fa90 $GME 🙌🏻💎🚀🚀🚀': {'neg': 0.182, 'neu': 0.667, 'pos': 0.152, 'compound': -0.128}, 'Still carrying AMC & GME on my back like mistresses DDs when she demands a piggy-back ride 🤤💎💎🙌🏾': {'neg': 0.0, 'neu': 0.857, 'pos': 0.143, 'compound': 0.3612}, 'GME and AMC are the only true squeeze plays.': {'neg': 0.0, 'neu': 0.593, 'pos': 0.407, 'compound': 0.5859}, \"Real fucking funny, mods. AMC GME showing up in this bitch on market's day off. Clever\": {'neg': 0.19, 'neu': 0.549, 'pos': 0.261, 'compound': 0.1761}, 'Oh shit! GME got a daily back! 🚀🚀': {'neg': 0.411, 'neu': 0.589, 'pos': 0.0, 'compound': -0.6351}, 'Something happen with GME over the weekend? Been away what did i miss?': {'neg': 0.151, 'neu': 0.849, 'pos': 0.0, 'compound': -0.2406}, 'GME 🚀🚀🚀🚀🦍🦍🦍🦍\\nLets goooooooo': {'neg': 0.0, 'neu': 1.0, 'pos': 0.0, 'compound': 0.0}, 'When should i buy GME and if I did what are your predictions for GME?': {'neg': 0.0, 'neu': 0.706, 'pos': 0.294, 'compound': 0.7184}, 'GME is the next GME': {'neg': 0.0, 'neu': 1.0, 'pos': 0.0, 'compound': 0.0}, 'Reddit awards are for the 🌈🐻s. Buy GME': {'neg': 0.0, 'neu': 0.429, 'pos': 0.571, 'compound': 0.8402}, 'GME getting another day of rest before it’s run': {'neg': 0.0, 'neu': 1.0, 'pos': 0.0, 'compound': 0.0}, 'GME 202.83 EOD': {'neg': 0.0, 'neu': 1.0, 'pos': 0.0, 'compound': 0.0}, \"Lol, GME on the popular ticker thread today when US markets ain't even open? \\n\\n\\nCome on guys, how much you wanna bet WSBs won't have GME included in a popular ticker thread tomorrow when everything open again????\": {'neg': 0.0, 'neu': 0.779, 'pos': 0.221, 'compound': 0.8541}, 'I am a bag holder of the legend GME and CLOV !!!\\n\\nAnd willing to get more profit from them thanks to my Apes.\\n\\nBULLISH\\n\\n![gif](emote|free_emotes_pack|give_upvote)': {'neg': 0.0, 'neu': 0.623, 'pos': 0.377, 'compound': 0.9286}, 'Seeing GME in the daily popular thread makes me moister than an oyster': {'neg': 0.0, 'neu': 0.811, 'pos': 0.189, 'compound': 0.4215}}, 'AMC': {'I hate the people that say they’re yoloing GME and AMC and then buy shares. That’s not a yolo play\\n\\nYolo play is buying weeklies on a volatile stock or 0DTE SPY calls': {'neg': 6.192000000000002, 'neu': 54.30399999999998, 'pos': 11.503000000000002, 'compound': 12.668199999999997}, 'Wen AMC moon?': {'neg': 0.0, 'neu': 0.286, 'pos': 0.714, 'compound': 0.7184}, 'AMC belongs to the streets!': {'neg': 0.0, 'neu': 1.0, 'pos': 0.0, 'compound': 0.0}, 'AMC ended below 50 and GME below 200. Might see res double digits tomorrow for those.': {'neg': 0.0, 'neu': 1.0, 'pos': 0.0, 'compound': 0.0}, 'Adam Aron:  I see you, I hear you, I value you.\\n\\nAMC stock:  Tanks.\\n\\nI think I’d rather not be seen, heard, or valued thanks tho.': {'neg': 0.0, 'neu': 0.699, 'pos': 0.301, 'compound': 0.802}, 'Held GME through the dark times and came out on top. AMC will be no different. Buffalo dipped chicken tenders at the end of that rainbow.': {'neg': 0.077, 'neu': 0.804, 'pos': 0.119, 'compound': 0.0516}, 'YO WTF HAPPENED TODAY AMC APES?!': {'neg': 0.45, 'neu': 0.55, 'pos': 0.0, 'compound': -0.6239}, 'AMC going lower AH': {'neg': 0.423, 'neu': 0.577, 'pos': 0.0, 'compound': -0.296}, 'This the only thread left?  Guess we’re all YOLOing AMC then.': {'neg': 0.0, 'neu': 1.0, 'pos': 0.0, 'compound': 0.0}, 'GME today\\n\\nAMC this Friday with Black Widow\\n\\n🚀 🚀': {'neg': 0.0, 'neu': 1.0, 'pos': 0.0, 'compound': 0.0}, 'Still holding CLOV, deep in it to win it bags are a bit heavy but keep buying more and averaging down, AMC has been good to me': {'neg': 0.0, 'neu': 0.793, 'pos': 0.207, 'compound': 0.7391}, 'Like how AMC is bullish!': {'neg': 0.0, 'neu': 0.286, 'pos': 0.714, 'compound': 0.8172}, 'Last Chance to join AMC and GME 🚀🌝': {'neg': 0.0, 'neu': 0.588, 'pos': 0.412, 'compound': 0.4939}, 'AMC is about to go full retard 🚀🌕': {'neg': 0.327, 'neu': 0.673, 'pos': 0.0, 'compound': -0.5267}, 'AMC puts fuckin printing': {'neg': 0.625, 'neu': 0.375, 'pos': 0.0, 'compound': -0.7184}, 'AMC at 50$??? WHAT A STEAL': {'neg': 0.528, 'neu': 0.472, 'pos': 0.0, 'compound': -0.6676}, 'Power hour soon.  AMC and GME green for the day??': {'neg': 0.0, 'neu': 0.734, 'pos': 0.266, 'compound': 0.504}, 'AMC and GME mooning very soon. Dip before moon expected. previous moon charts all similar. Thanks': {'neg': 0.0, 'neu': 0.401, 'pos': 0.599, 'compound': 0.9633}, 'Cmon AMC': {'neg': 0.0, 'neu': 1.0, 'pos': 0.0, 'compound': 0.0}, \"Theres no way AMC and GME aren't on the threshold securities list today for fucks sakes!\": {'neg': 0.269, 'neu': 0.625, 'pos': 0.106, 'compound': -0.5255}, '# AMC is on her period but will it last a week?': {'neg': 0.0, 'neu': 1.0, 'pos': 0.0, 'compound': 0.0}, 'AMC looks like a sinking ship.... 5min volume spikes the last 3 candles will push it lower. Indicates who ever bought the dip Friday is taking profit/bugging out.': {'neg': 0.077, 'neu': 0.836, 'pos': 0.087, 'compound': 0.0772}, 'Looks like AMC should’ve just done the offering lol': {'neg': 0.226, 'neu': 0.411, 'pos': 0.363, 'compound': 0.25}, \"I thought the rule was gme and AMC aren't allowed to tank at the same time?!? Having both now I know what a DP feels like\": {'neg': 0.0, 'neu': 0.875, 'pos': 0.125, 'compound': 0.4857}, 'AMC GME 🌈🐻 👎🏻': {'neg': 0.0, 'neu': 1.0, 'pos': 0.0, 'compound': 0.0}, 'GME AMC CLOV trading patterns are roughly the same. Seems like a good sign for CLOV and also GME AMC. can someone elaborate as to why this is happening and why it could be a good sign?': {'neg': 0.0, 'neu': 0.794, 'pos': 0.206, 'compound': 0.8074}, 'AMC quit playing games with my heart 💔': {'neg': 0.0, 'neu': 0.769, 'pos': 0.231, 'compound': 0.2023}, 'This morning started so strong I thought $AMC would be at $56': {'neg': 0.0, 'neu': 0.702, 'pos': 0.298, 'compound': 0.6418}, 'AMC EOW predictions. Go!': {'neg': 0.0, 'neu': 1.0, 'pos': 0.0, 'compound': 0.0}, \"It's funny to see guys who missed GME, AMC and BB praising CLOV and talking shit about meme stocks. WSB community bought GME under $50 and AMC, BB under $10. Most of us made already 1000% gains. \\n\\nI dont even care if GME, AMC or BB drops 20% in a day, because i sold GME at $320 bought back again at $40 if it goes to 0 i'm still in big profits. Sold AMC around $18 bought back at $9 and planning to hold untill over $100. BB is the only one where i have a loss, but i dont even care. If it goes to above $20 nice for me, but if drops to 0 shit happens. Still in big profits with the other 2.\": {'neg': 0.115, 'neu': 0.773, 'pos': 0.112, 'compound': -0.0788}, 'Them shorts are really trying hard knowing their time is coming to end soon\\n\\nAMC 🦍💎🦍': {'neg': 0.101, 'neu': 0.899, 'pos': 0.0, 'compound': -0.1725}, 'To all the GME and AMC bag holders cheering and shilling CLOV, y’all are bleeding too, simmer the fuck down.': {'neg': 0.141, 'neu': 0.726, 'pos': 0.133, 'compound': -0.0516}, \"I ain't selling AMC 💎👐\": {'neg': 0.0, 'neu': 1.0, 'pos': 0.0, 'compound': 0.0}, 'I need Branson to fly a rocket carrying a CLOV banner while watching an AMC movies on his way to buy a nintendo switch from gamestop to get my portfolio even remotely back to even.': {'neg': 0.0, 'neu': 0.78, 'pos': 0.22, 'compound': 0.8481}, 'CEO Adam for AMC really tried his best to boost the stock over the weekend with his tweets and removal of dilution vote, I saw huge buying volume in the first 2 minutes of market open then it immediately died out. Normally I would say that this would just slowly decay over time but the amount of buying at the open (new bagholders and averaging up from existing bagholders) leads me to believe within the next 2 weeks we will see apes recognize that there is not going to be a 3rd squeeze from a 27b market cap and rush for the exit. Into the low-mid 30s then bounce back to high 30s / low 40s is likely next for $AMC': {'neg': 0.056, 'neu': 0.892, 'pos': 0.051, 'compound': -0.1451}, 'AMC MUTHAFUCKAAAAAAAAAA. \\n\\nTHAT IS ALL': {'neg': 0.0, 'neu': 1.0, 'pos': 0.0, 'compound': 0.0}, \"AMC was always a monster in premarket and first 3 days of the week but last couple of weeks it's been meh 🤔\": {'neg': 0.071, 'neu': 0.929, 'pos': 0.0, 'compound': -0.1154}, \"I bought into AMC back in January at close to $8. It was priced around $5 for the entire month of February. Needless to say, this CLOV dip doesn't faze me. Patience is 🔑 here 🐵🐵🐵🐵\": {'neg': 0.0, 'neu': 1.0, 'pos': 0.0, 'compound': 0.0}, 'Told you guys to buy CLOV 1 month ago when it was at 7-8. Sold at $26:\\r  \\n\\r  \\n[https://www.reddit.com/r/wallstreetbets/comments/ndwk25/what\\\\_are\\\\_your\\\\_moves\\\\_tomorrow\\\\_may\\\\_17\\\\_2021/gyf8vuu/?context=3](https://www.reddit.com/r/wallstreetbets/comments/ndwk25/what_are_your_moves_tomorrow_may_17_2021/gyf8vuu/?context=3)\\n\\n  \\nNow I\\'m telling you to wait for the $7-8 dip again. It\\'ll spike again as soon as AMC or the next \"AMC\" ticker gets short squeeze attention. If you buy now with this garbabe volume you\\'ll only slow bleed and baghold. Will probably get downvoted like I did when I recommended CLOV at 7 but at least I\\'m saving some of u from losing money. Be safe out there guys.': {'neg': 0.056, 'neu': 0.777, 'pos': 0.167, 'compound': 0.8677}, 'I’m saying this out of love for you Clov’ers, what AMC and GME are doing to keep their head above the water while the shorts keep trying to drown us is VERY hard and is not easily replicated. Just because CLOV has the potential to squeeze, doesn’t mean it will. It needs a lot of media attention and retail investors to truly beat these shorts who have an unreal amount of resources to fight us. I hope you guys make money off it, but sometimes a little outside perspective can help bring some of you to realization of getting out while you can. I’m not an expert by any means, but that’s just my opinion on the situation.': {'neg': 0.059, 'neu': 0.848, 'pos': 0.093, 'compound': 0.645}, 'AMC got me feeling like one of those guys on viagra that has had an erection for more than 4 hours........ CUM on already!': {'neg': 0.0, 'neu': 0.83, 'pos': 0.17, 'compound': 0.5093}, 'Jumpy line on AMC': {'neg': 0.4, 'neu': 0.6, 'pos': 0.0, 'compound': -0.25}, '25mil share sales has been scraped. AMC time to go vertical 🚀': {'neg': 0.0, 'neu': 0.82, 'pos': 0.18, 'compound': 0.296}, 'AMC is looking strong 💪🏾😎': {'neg': 0.0, 'neu': 0.548, 'pos': 0.452, 'compound': 0.5106}, '$AMC $GME merger. Theatre chain to host live gaming tournaments on the big screen. Wouldn’t that headline be spicy': {'neg': 0.0, 'neu': 1.0, 'pos': 0.0, 'compound': 0.0}, 'AMC 🙌💎🚀': {'neg': 0.0, 'neu': 1.0, 'pos': 0.0, 'compound': 0.0}, 'WISH advertises nice products then sends you  Chinese trash \\n\\nGME fucked us all for decades by giving us 50 cents for a game then selling it back to us for $30.\\n\\nAMC fucked us for decades by charging $15 fucking dollars for a soda and popcorn\\n\\n\\nWhy do apes seem to exclusively rally around companies that treat us like shit? Is this some sort of financial Stockholm syndrome or some shit?': {'neg': 0.181, 'neu': 0.665, 'pos': 0.153, 'compound': -0.6733}, \"Holding AMC today. I'm feeling positive that the squeeze is approaching.\": {'neg': 0.0, 'neu': 0.638, 'pos': 0.362, 'compound': 0.6249}, 'GME is my wife, AMC is my side bitch and WISH is my friend with benefits!': {'neg': 0.15, 'neu': 0.474, 'pos': 0.376, 'compound': 0.6932}, 'AMC BABY': {'neg': 0.0, 'neu': 1.0, 'pos': 0.0, 'compound': 0.0}, 'GME is back on WSB. Nice! Leggo!!! Good luck to AMC and BB as well. Tendies all around.': {'neg': 0.0, 'neu': 0.465, 'pos': 0.535, 'compound': 0.9321}, 'AMC gong to Pamp this week!  Shorts are manipulating all that they can and you know what, they can’t stop the inevitable, and still have to cover. They want to get us off the play with media smear ads, but apes numb to their tactics.  The more they tell me not to buy, I buy. Sorry, jacked to the tits.': {'neg': 0.309, 'neu': 0.653, 'pos': 0.038, 'compound': -0.9653}, 'Remember when AMC went from $9-$12 to $50-$70? Wonder how soon the next leap will be': {'neg': 0.0, 'neu': 1.0, 'pos': 0.0, 'compound': 0.0}, 'AMC is showing the McGregor fight in all its locations on Saturday. My prediction is they make alot of $ and this becomes a new revenue model.': {'neg': 0.098, 'neu': 0.902, 'pos': 0.0, 'compound': -0.3818}, \"**if  $AMC HITS  80  THIS WEEK   I'LL LET YOU BORROW MY HOT GIRLFRIEND!! ..WITHOUT HER LOVER OF COURSE... HE WOULD JUST SIT THERE AND WATCH YOU   HANKY PANKY MY GIRL!  😎😎👍😎😎👍=======================================**\": {'neg': 0.0, 'neu': 0.77, 'pos': 0.23, 'compound': 0.8639}, 'AMC gonna rip tomorrow!': {'neg': 0.638, 'neu': 0.362, 'pos': 0.0, 'compound': -0.7424}, 'GME AMC CLOV Make me financially free already cpc': {'neg': 0.0, 'neu': 0.708, 'pos': 0.292, 'compound': 0.5106}, 'BTW Jim Chanos (infamous TSLA short)is making fun or AMC and CLOV on Twitter\\n\\nhttps://twitter.com/wallstcynic/status/1411732143038943235?s=21': {'neg': 0.0, 'neu': 0.809, 'pos': 0.191, 'compound': 0.5106}, 'AMC ITS TIME AGAIN🍿🍿': {'neg': 0.0, 'neu': 1.0, 'pos': 0.0, 'compound': 0.0}, 'AMC is going to show the UFC PPV fight…$25 a ticket.\\n\\nEdit:  maybe you dorks forgot where you are or what downvotes are for…but that’s financial information about a company in the thread we’re in lol': {'neg': 0.041, 'neu': 0.882, 'pos': 0.077, 'compound': 0.3182}, '#I AM NOT SELLING MY AMC\\n\\nMarket is closed today': {'neg': 0.0, 'neu': 1.0, 'pos': 0.0, 'compound': 0.0}, 'Still carrying AMC & GME on my back like mistresses DDs when she demands a piggy-back ride 🤤💎💎🙌🏾': {'neg': 0.0, 'neu': 0.857, 'pos': 0.143, 'compound': 0.3612}, 'GME and AMC are the only true squeeze plays.': {'neg': 0.0, 'neu': 0.593, 'pos': 0.407, 'compound': 0.5859}, 'Someone said AMC will shit itself and dip to $20. I honestly think he missed a 0.': {'neg': 0.279, 'neu': 0.577, 'pos': 0.144, 'compound': -0.4215}, \"Real fucking funny, mods. AMC GME showing up in this bitch on market's day off. Clever\": {'neg': 0.19, 'neu': 0.549, 'pos': 0.261, 'compound': 0.1761}, 'AMC got bars and live sports on Imax.  Cheers!': {'neg': 0.0, 'neu': 0.702, 'pos': 0.298, 'compound': 0.5255}, 'Sooo we still holdin on to AMC or what?': {'neg': 0.0, 'neu': 1.0, 'pos': 0.0, 'compound': 0.0}, 'Waiting for AMC Tendies': {'neg': 0.0, 'neu': 0.5, 'pos': 0.5, 'compound': 0.4588}, \"I'm gonna go look for a four leaf clover, I could use the confidence boost. Also I have nothing better to do. Good luck gme, AMC and $clov\\nMay the odds be ever in your favor.\": {'neg': 0.055, 'neu': 0.614, 'pos': 0.332, 'compound': 0.9041}, 'Loading up on AMC': {'neg': 0.0, 'neu': 1.0, 'pos': 0.0, 'compound': 0.0}, 'AMC will moon again! \\n\\nEventually': {'neg': 0.0, 'neu': 0.43, 'pos': 0.57, 'compound': 0.7424}, 'Got a few AMC 55c on 7/9 I’m rootin’ for. Daddy needs new rotors': {'neg': 0.0, 'neu': 1.0, 'pos': 0.0, 'compound': 0.0}}, 'SPCE': {'SPCE TOMORROW $50+': {'neg': 1.812, 'neu': 19.118, 'pos': 3.0700000000000003, 'compound': 0.9317999999999999}, 'I bought a fuckload of SPY and QQQ puts alongside UVXY calls this morning with no daytrades left using like half of my account after SPCE calls got me up to 800% gains. My account tipped over 25k and it was the perfect timing to allow me to sell all the fuckin puts I bought. \\n\\nI was just happy with my gains, but holy fuckin shit I thought SPY and QQQ were gonna keep sliding. I feel like mothafuckin Gordon Gecko in this bitch': {'neg': 0.207, 'neu': 0.598, 'pos': 0.195, 'compound': -0.7351}, 'Holding my SPCE until the launch.': {'neg': 0.0, 'neu': 1.0, 'pos': 0.0, 'compound': 0.0}, 'All the “experts” who think SPCE had too good of a run and that everyone should sell are going to look even more stupid after this weekend.🚀': {'neg': 0.251, 'neu': 0.665, 'pos': 0.084, 'compound': -0.7778}, 'SPCE will shoot up next Monday 7/12, flight is scheduled early morning Sunday 7/11, easy money.': {'neg': 0.117, 'neu': 0.634, 'pos': 0.249, 'compound': 0.4019}, 'SPCE closing above $52 signals a breakout. Falling and closing below $44 says we continue downtrend.': {'neg': 0.103, 'neu': 0.897, 'pos': 0.0, 'compound': -0.1531}, 'SPCE to 100 next week': {'neg': 0.0, 'neu': 1.0, 'pos': 0.0, 'compound': 0.0}, 'If you’ve been watching SPCE for more than a week, you know that there’s no way in hell they’re flying anything this week. My money is on “poor weather conditions”.': {'neg': 0.194, 'neu': 0.743, 'pos': 0.063, 'compound': -0.6808}, 'Where are my SPCE gang members at?': {'neg': 0.0, 'neu': 1.0, 'pos': 0.0, 'compound': 0.0}, 'Fuck it sell all of SPCE and going into amc': {'neg': 0.515, 'neu': 0.485, 'pos': 0.0, 'compound': -0.8591}, 'SPCE hitting $50+ tomorrow': {'neg': 0.0, 'neu': 1.0, 'pos': 0.0, 'compound': 0.0}, 'SPCE bout to blast off': {'neg': 0.0, 'neu': 1.0, 'pos': 0.0, 'compound': 0.0}, 'Same late day consolidation pattern for SPCE as on Friday. Bullish.': {'neg': 0.0, 'neu': 0.68, 'pos': 0.32, 'compound': 0.6908}, 'SPCE this week 🚀': {'neg': 0.0, 'neu': 1.0, 'pos': 0.0, 'compound': 0.0}, \"SPCE is going to rise again this week as we get closer to big weekend launch. It will likely gap up with retail piling in Mon. So get in now. Volatility assured. \\n\\nThis company can easily scale to be more than a $8bn global player by 2026, at around $350-700 per share. Today's prices are a long term bargain. Imo.\\n\\nThey are probably going to announce global expansion plans sometime this year. They already have 4 spaceships, 1 operational, 1 in fitting out, 2 in production, ready for commercial operations starting in 2022. \\n\\n🚀🚀🚀🤑🤑🤑\": {'neg': 0.0, 'neu': 0.851, 'pos': 0.149, 'compound': 0.9081}, 'SPCE already up 4% premarket nice I got 45cs check my post history': {'neg': 0.0, 'neu': 0.797, 'pos': 0.203, 'compound': 0.4215}, 'SPCE to $100 is inevitable': {'neg': 0.0, 'neu': 1.0, 'pos': 0.0, 'compound': 0.0}, 'SPCE VERY MOONISH!!!🚀🚀': {'neg': 0.0, 'neu': 1.0, 'pos': 0.0, 'compound': 0.0}, 'SPCE calls Friday at close was easy mode fam': {'neg': 0.0, 'neu': 0.47, 'pos': 0.53, 'compound': 0.836}, 'SPCE  +5%': {'neg': 0.0, 'neu': 1.0, 'pos': 0.0, 'compound': 0.0}, 'SPCE all in the moon': {'neg': 0.0, 'neu': 0.444, 'pos': 0.556, 'compound': 0.7184}, 'SPCE PM 🚀🚀': {'neg': 0.0, 'neu': 1.0, 'pos': 0.0, 'compound': 0.0}, 'We mooning today bois? $SPCE $TSLA': {'neg': 0.0, 'neu': 0.5, 'pos': 0.5, 'compound': 0.7184}, \"(more) 7/16 SPCE calls - doubt I'm the only one. Retarded or stupid?\": {'neg': 0.425, 'neu': 0.354, 'pos': 0.221, 'compound': -0.5574}}, 'TSLA': {'never felt more bullish on TSLA': {'neg': 0.5800000000000001, 'neu': 5.501, 'pos': 1.919, 'compound': 1.8647}, 'Is there any chance that TSLA goes up tomorrow': {'neg': 0.0, 'neu': 0.8, 'pos': 0.2, 'compound': 0.25}, 'So happy I sold all my TSLA on Friday': {'neg': 0.0, 'neu': 0.637, 'pos': 0.363, 'compound': 0.6115}, 'TSLA will moon today according to Cathie Wood': {'neg': 0.0, 'neu': 0.583, 'pos': 0.417, 'compound': 0.7184}, 'We mooning today bois? $SPCE $TSLA': {'neg': 0.0, 'neu': 0.5, 'pos': 0.5, 'compound': 0.7184}, 'Guess you can’t bitch about being down 2-4X the market on red days when you are levered and trying to get that on green days. But I still want to bitch about it tbh. I bleed when $TSLA and big tech bleeds. \\n\\n$CRWD trying to hold up my shit up along w $AMZN $GRWG $AAPL $Z and $PLTR, but no match for all the other shit going on/down. Still bought some dips on the day. Just my nature. \\n\\nWell the wife picked fresh raspberries from the garden this morning. At least I got that going for me.': {'neg': 0.138, 'neu': 0.781, 'pos': 0.081, 'compound': -0.7964}, 'Glad TSLA has returned back to her old ways of gagging and cucking me once again.': {'neg': 0.0, 'neu': 0.833, 'pos': 0.167, 'compound': 0.4588}, 'BTW Jim Chanos (infamous TSLA short)is making fun or AMC and CLOV on Twitter\\n\\nhttps://twitter.com/wallstcynic/status/1411732143038943235?s=21': {'neg': 0.0, 'neu': 0.809, 'pos': 0.191, 'compound': 0.5106}}, 'PLTR': {'Just received an email from Schwab asking me to lend out my shares for shorts. \\n\\nI’m only holding CLOV and PLTR as far as individual stocks go. \\n\\nCLOV must be really hard to borrow right now.': {'neg': 1.252, 'neu': 5.035, 'pos': 0.7130000000000001, 'compound': -0.6175999999999999}, 'Someone put some life into PLTR': {'neg': 0.5, 'neu': 0.5, 'pos': 0.0, 'compound': -0.7184}, 'Ahh, so _that’s_ what it feels like to invest in PLTR': {'neg': 0.0, 'neu': 0.8, 'pos': 0.2, 'compound': 0.3612}, 'Hold PLTR like always.': {'neg': 0.0, 'neu': 0.545, 'pos': 0.455, 'compound': 0.3612}, 'Wtf are y’all doing to my PLTR bags': {'neg': 0.352, 'neu': 0.648, 'pos': 0.0, 'compound': -0.5859}, 'PLTR dumping but why?': {'neg': 0.355, 'neu': 0.645, 'pos': 0.0, 'compound': -0.1655}, 'Tesla PLTR': {'neg': 0.0, 'neu': 1.0, 'pos': 0.0, 'compound': 0.0}}}\n",
            "{'GME': {'neg': 4.715, 'neu': 58.424, 'pos': 12.86, 'compound': 17.5071}, 'AMC': {'neg': 6.192000000000002, 'neu': 54.30399999999998, 'pos': 11.503000000000002, 'compound': 12.668199999999997}, 'SPCE': {'neg': 1.812, 'neu': 19.118, 'pos': 3.0700000000000003, 'compound': 0.9317999999999999}, 'TSLA': {'neg': 0.5800000000000001, 'neu': 5.501, 'pos': 1.919, 'compound': 1.8647}, 'PLTR': {'neg': 1.252, 'neu': 5.035, 'pos': 0.7130000000000001, 'compound': -0.6175999999999999}}\n",
            "{'neg': 0.0, 'neu': 1.0, 'pos': 0.0, 'compound': 0.0}\n",
            "{'GME': 76, 'AMC': 72, 'SPCE': 24, 'TSLA': 8, 'PLTR': 7, 'BABA': 5}\n"
          ],
          "name": "stdout"
        }
      ]
    },
    {
      "cell_type": "code",
      "metadata": {
        "colab": {
          "base_uri": "https://localhost:8080/"
        },
        "id": "DdYy4yXPCT3o",
        "outputId": "cd1d3f55-0c54-463a-ebdb-9ece2c28c697"
      },
      "source": [
        "#calculating average\n",
        "\n",
        "for key in score.keys():\n",
        "  scores[symbol][key]=scores[symbol][key]/symbols[symbol]\n",
        "\n",
        "\n",
        "print(scores[symbol][key])"
      ],
      "execution_count": null,
      "outputs": [
        {
          "output_type": "stream",
          "text": [
            "-3.1234089266550713e-10\n"
          ],
          "name": "stdout"
        }
      ]
    },
    {
      "cell_type": "code",
      "metadata": {
        "colab": {
          "base_uri": "https://localhost:8080/"
        },
        "id": "j7AR62YdCT6u",
        "outputId": "60821c54-cd32-40a0-859f-19729940c190"
      },
      "source": [
        "#printing sentiment analysis\n",
        "print(f\" Sentiment analysis of top {picks_ayz} picks: \")\n",
        "df=pd.DataFrame(scores)\n",
        "df.index=['Bearish', 'Neutral', 'Bullish', 'Total/Compound']\n",
        "# df=df.T\n",
        "print(df)"
      ],
      "execution_count": null,
      "outputs": [
        {
          "output_type": "stream",
          "text": [
            " Sentiment analysis of top 5 picks: \n",
            "                    GME      AMC     SPCE    TSLA          PLTR\n",
            "Bearish          4.7150   6.1920   1.8120  0.5800  6.331781e-10\n",
            "Neutral         58.4240  54.3040  19.1180  5.5010  2.546367e-09\n",
            "Bullish         12.8600  11.5030   3.0700  1.9190  3.605879e-10\n",
            "Total/Compound  17.5071  12.6682   0.9318  1.8647 -3.123409e-10\n"
          ],
          "name": "stdout"
        }
      ]
    },
    {
      "cell_type": "code",
      "metadata": {
        "colab": {
          "base_uri": "https://localhost:8080/",
          "height": 264
        },
        "id": "d7rawwidCT9v",
        "outputId": "fa0ecfd8-4166-4eb9-e080-a1bcdc96a2b1"
      },
      "source": [
        "# Date Visualization\n",
        "# most mentioned picks    \n",
        "squarify.plot(sizes=times, label=top, alpha=.7 )\n",
        "plt.axis('off')\n",
        "plt.title(f\"{picks} most mentioned picks\")\n",
        "plt.show()"
      ],
      "execution_count": null,
      "outputs": [
        {
          "output_type": "display_data",
          "data": {
            "image/png": "[encoded data removed]",
            "text/plain": [
              "<Figure size 432x288 with 1 Axes>"
            ]
          },
          "metadata": {
            "tags": [],
            "needs_background": "light"
          }
        }
      ]
    },
    {
      "cell_type": "code",
      "metadata": {
        "colab": {
          "base_uri": "https://localhost:8080/",
          "height": 352
        },
        "id": "0VneYUnmCUA1",
        "outputId": "6fcf8468-6be9-4288-ff7f-926797c78370"
      },
      "source": [
        "# Sentiment analysis\n",
        "df = df.astype(float)\n",
        "colors = ['red', 'springgreen', 'forestgreen', 'coral']\n",
        "df.plot(kind = 'bar', color=colors, title=f\"Sentiment analysis of top {picks_ayz} picks:\")\n",
        "plt.show()"
      ],
      "execution_count": null,
      "outputs": [
        {
          "output_type": "display_data",
          "data": {
            "image/png": "[encoded data removed]",
            "text/plain": [
              "<Figure size 432x288 with 1 Axes>"
            ]
          },
          "metadata": {
            "tags": [],
            "needs_background": "light"
          }
        }
      ]
    },
    {
      "cell_type": "code",
      "metadata": {
        "id": "WkEkyQPZCUEZ"
      },
      "source": [
        ""
      ],
      "execution_count": null,
      "outputs": []
    },
    {
      "cell_type": "code",
      "metadata": {
        "id": "1_rl-GhlCUHr"
      },
      "source": [
        ""
      ],
      "execution_count": null,
      "outputs": []
    },
    {
      "cell_type": "code",
      "metadata": {
        "id": "qEwQp5j9CULR"
      },
      "source": [
        ""
      ],
      "execution_count": null,
      "outputs": []
    }
  ]
}